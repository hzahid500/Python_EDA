{
 "cells": [
  {
   "cell_type": "code",
   "execution_count": 1,
   "id": "0d66d38d",
   "metadata": {
    "_cell_guid": "b1076dfc-b9ad-4769-8c92-a6c4dae69d19",
    "_uuid": "8f2839f25d086af736a60e9eeb907d3b93b6e0e5",
    "execution": {
     "iopub.execute_input": "2023-03-24T05:24:46.369418Z",
     "iopub.status.busy": "2023-03-24T05:24:46.368134Z",
     "iopub.status.idle": "2023-03-24T05:24:47.664149Z",
     "shell.execute_reply": "2023-03-24T05:24:47.662908Z"
    },
    "papermill": {
     "duration": 1.308141,
     "end_time": "2023-03-24T05:24:47.667299",
     "exception": false,
     "start_time": "2023-03-24T05:24:46.359158",
     "status": "completed"
    },
    "tags": []
   },
   "outputs": [],
   "source": [
    "# importing all the required libraries\n",
    "\n",
    "import pandas as pd\n",
    "import numpy as np\n",
    "import matplotlib.pyplot as plt\n",
    "import seaborn as sns\n",
    "plt.style.use('ggplot')\n",
    "pd.set_option('max_columns', 200)"
   ]
  },
  {
   "cell_type": "code",
   "execution_count": 2,
   "id": "d3e61416",
   "metadata": {
    "execution": {
     "iopub.execute_input": "2023-03-24T05:24:47.680888Z",
     "iopub.status.busy": "2023-03-24T05:24:47.680454Z",
     "iopub.status.idle": "2023-03-24T05:24:47.735499Z",
     "shell.execute_reply": "2023-03-24T05:24:47.734090Z"
    },
    "papermill": {
     "duration": 0.065457,
     "end_time": "2023-03-24T05:24:47.738676",
     "exception": false,
     "start_time": "2023-03-24T05:24:47.673219",
     "status": "completed"
    },
    "tags": []
   },
   "outputs": [],
   "source": [
    "# reading in the dataset as a csv file\n",
    "\n",
    "df = pd.read_csv('/kaggle/input/rollercoaster-database/coaster_db.csv')"
   ]
  },
  {
   "cell_type": "code",
   "execution_count": 3,
   "id": "1137eefa",
   "metadata": {
    "execution": {
     "iopub.execute_input": "2023-03-24T05:24:47.754828Z",
     "iopub.status.busy": "2023-03-24T05:24:47.754409Z",
     "iopub.status.idle": "2023-03-24T05:24:47.763158Z",
     "shell.execute_reply": "2023-03-24T05:24:47.761850Z"
    },
    "papermill": {
     "duration": 0.019353,
     "end_time": "2023-03-24T05:24:47.766034",
     "exception": false,
     "start_time": "2023-03-24T05:24:47.746681",
     "status": "completed"
    },
    "tags": []
   },
   "outputs": [
    {
     "data": {
      "text/plain": [
       "(1087, 56)"
      ]
     },
     "execution_count": 3,
     "metadata": {},
     "output_type": "execute_result"
    }
   ],
   "source": [
    "# viewing the overall number of columns and rows of the dataset\n",
    "\n",
    "df.shape"
   ]
  },
  {
   "cell_type": "code",
   "execution_count": 4,
   "id": "e52fb568",
   "metadata": {
    "execution": {
     "iopub.execute_input": "2023-03-24T05:24:47.780277Z",
     "iopub.status.busy": "2023-03-24T05:24:47.779811Z",
     "iopub.status.idle": "2023-03-24T05:24:47.844834Z",
     "shell.execute_reply": "2023-03-24T05:24:47.843265Z"
    },
    "papermill": {
     "duration": 0.076049,
     "end_time": "2023-03-24T05:24:47.847918",
     "exception": false,
     "start_time": "2023-03-24T05:24:47.771869",
     "status": "completed"
    },
    "tags": []
   },
   "outputs": [
    {
     "data": {
      "text/html": [
       "<div>\n",
       "<style scoped>\n",
       "    .dataframe tbody tr th:only-of-type {\n",
       "        vertical-align: middle;\n",
       "    }\n",
       "\n",
       "    .dataframe tbody tr th {\n",
       "        vertical-align: top;\n",
       "    }\n",
       "\n",
       "    .dataframe thead th {\n",
       "        text-align: right;\n",
       "    }\n",
       "</style>\n",
       "<table border=\"1\" class=\"dataframe\">\n",
       "  <thead>\n",
       "    <tr style=\"text-align: right;\">\n",
       "      <th></th>\n",
       "      <th>coaster_name</th>\n",
       "      <th>Length</th>\n",
       "      <th>Speed</th>\n",
       "      <th>Location</th>\n",
       "      <th>Status</th>\n",
       "      <th>Opening date</th>\n",
       "      <th>Type</th>\n",
       "      <th>Manufacturer</th>\n",
       "      <th>Height restriction</th>\n",
       "      <th>Model</th>\n",
       "      <th>Height</th>\n",
       "      <th>Inversions</th>\n",
       "      <th>Lift/launch system</th>\n",
       "      <th>Cost</th>\n",
       "      <th>Trains</th>\n",
       "      <th>Park section</th>\n",
       "      <th>Duration</th>\n",
       "      <th>Capacity</th>\n",
       "      <th>G-force</th>\n",
       "      <th>Designer</th>\n",
       "      <th>Max vertical angle</th>\n",
       "      <th>Drop</th>\n",
       "      <th>Soft opening date</th>\n",
       "      <th>Fast Lane available</th>\n",
       "      <th>Replaced</th>\n",
       "      <th>Track layout</th>\n",
       "      <th>Fastrack available</th>\n",
       "      <th>Soft opening date.1</th>\n",
       "      <th>Closing date</th>\n",
       "      <th>Opened</th>\n",
       "      <th>Replaced by</th>\n",
       "      <th>Website</th>\n",
       "      <th>Flash Pass Available</th>\n",
       "      <th>Must transfer from wheelchair</th>\n",
       "      <th>Theme</th>\n",
       "      <th>Single rider line available</th>\n",
       "      <th>Restraint Style</th>\n",
       "      <th>Flash Pass available</th>\n",
       "      <th>Acceleration</th>\n",
       "      <th>Restraints</th>\n",
       "      <th>Name</th>\n",
       "      <th>year_introduced</th>\n",
       "      <th>latitude</th>\n",
       "      <th>longitude</th>\n",
       "      <th>Type_Main</th>\n",
       "      <th>opening_date_clean</th>\n",
       "      <th>speed1</th>\n",
       "      <th>speed2</th>\n",
       "      <th>speed1_value</th>\n",
       "      <th>speed1_unit</th>\n",
       "      <th>speed_mph</th>\n",
       "      <th>height_value</th>\n",
       "      <th>height_unit</th>\n",
       "      <th>height_ft</th>\n",
       "      <th>Inversions_clean</th>\n",
       "      <th>Gforce_clean</th>\n",
       "    </tr>\n",
       "  </thead>\n",
       "  <tbody>\n",
       "    <tr>\n",
       "      <th>0</th>\n",
       "      <td>Switchback Railway</td>\n",
       "      <td>600 ft (180 m)</td>\n",
       "      <td>6 mph (9.7 km/h)</td>\n",
       "      <td>Coney Island</td>\n",
       "      <td>Removed</td>\n",
       "      <td>June 16, 1884</td>\n",
       "      <td>Wood</td>\n",
       "      <td>LaMarcus Adna Thompson</td>\n",
       "      <td>NaN</td>\n",
       "      <td>Lift Packed</td>\n",
       "      <td>50 ft (15 m)</td>\n",
       "      <td>NaN</td>\n",
       "      <td>gravity</td>\n",
       "      <td>NaN</td>\n",
       "      <td>NaN</td>\n",
       "      <td>Coney Island Cyclone Site</td>\n",
       "      <td>1:00</td>\n",
       "      <td>1600 riders per hour</td>\n",
       "      <td>2.9</td>\n",
       "      <td>LaMarcus Adna Thompson</td>\n",
       "      <td>30°</td>\n",
       "      <td>43 ft (13 m)</td>\n",
       "      <td>NaN</td>\n",
       "      <td>NaN</td>\n",
       "      <td>NaN</td>\n",
       "      <td>Gravity pulled coaster</td>\n",
       "      <td>NaN</td>\n",
       "      <td>NaN</td>\n",
       "      <td>NaN</td>\n",
       "      <td>NaN</td>\n",
       "      <td>NaN</td>\n",
       "      <td>NaN</td>\n",
       "      <td>NaN</td>\n",
       "      <td>NaN</td>\n",
       "      <td>NaN</td>\n",
       "      <td>NaN</td>\n",
       "      <td>NaN</td>\n",
       "      <td>NaN</td>\n",
       "      <td>NaN</td>\n",
       "      <td>NaN</td>\n",
       "      <td>NaN</td>\n",
       "      <td>1884</td>\n",
       "      <td>40.5740</td>\n",
       "      <td>-73.9780</td>\n",
       "      <td>Wood</td>\n",
       "      <td>1884-06-16</td>\n",
       "      <td>6 mph</td>\n",
       "      <td>9.7 km/h</td>\n",
       "      <td>6.0</td>\n",
       "      <td>mph</td>\n",
       "      <td>6.0</td>\n",
       "      <td>50.0</td>\n",
       "      <td>ft</td>\n",
       "      <td>NaN</td>\n",
       "      <td>0</td>\n",
       "      <td>2.9</td>\n",
       "    </tr>\n",
       "    <tr>\n",
       "      <th>1</th>\n",
       "      <td>Flip Flap Railway</td>\n",
       "      <td>NaN</td>\n",
       "      <td>NaN</td>\n",
       "      <td>Sea Lion Park</td>\n",
       "      <td>Removed</td>\n",
       "      <td>1895</td>\n",
       "      <td>Wood</td>\n",
       "      <td>Lina Beecher</td>\n",
       "      <td>NaN</td>\n",
       "      <td>NaN</td>\n",
       "      <td>NaN</td>\n",
       "      <td>1.0</td>\n",
       "      <td>NaN</td>\n",
       "      <td>NaN</td>\n",
       "      <td>a single car. Riders are arranged 1 across in ...</td>\n",
       "      <td>NaN</td>\n",
       "      <td>NaN</td>\n",
       "      <td>NaN</td>\n",
       "      <td>12</td>\n",
       "      <td>Lina Beecher</td>\n",
       "      <td>NaN</td>\n",
       "      <td>NaN</td>\n",
       "      <td>NaN</td>\n",
       "      <td>NaN</td>\n",
       "      <td>NaN</td>\n",
       "      <td>NaN</td>\n",
       "      <td>NaN</td>\n",
       "      <td>NaN</td>\n",
       "      <td>1902</td>\n",
       "      <td>NaN</td>\n",
       "      <td>NaN</td>\n",
       "      <td>NaN</td>\n",
       "      <td>NaN</td>\n",
       "      <td>NaN</td>\n",
       "      <td>NaN</td>\n",
       "      <td>NaN</td>\n",
       "      <td>NaN</td>\n",
       "      <td>NaN</td>\n",
       "      <td>NaN</td>\n",
       "      <td>NaN</td>\n",
       "      <td>NaN</td>\n",
       "      <td>1895</td>\n",
       "      <td>40.5780</td>\n",
       "      <td>-73.9790</td>\n",
       "      <td>Wood</td>\n",
       "      <td>1895-01-01</td>\n",
       "      <td>NaN</td>\n",
       "      <td>NaN</td>\n",
       "      <td>NaN</td>\n",
       "      <td>NaN</td>\n",
       "      <td>NaN</td>\n",
       "      <td>NaN</td>\n",
       "      <td>NaN</td>\n",
       "      <td>NaN</td>\n",
       "      <td>1</td>\n",
       "      <td>12.0</td>\n",
       "    </tr>\n",
       "    <tr>\n",
       "      <th>2</th>\n",
       "      <td>Switchback Railway (Euclid Beach Park)</td>\n",
       "      <td>NaN</td>\n",
       "      <td>NaN</td>\n",
       "      <td>Cleveland, Ohio, United States</td>\n",
       "      <td>Closed</td>\n",
       "      <td>NaN</td>\n",
       "      <td>Other</td>\n",
       "      <td>NaN</td>\n",
       "      <td>NaN</td>\n",
       "      <td>NaN</td>\n",
       "      <td>NaN</td>\n",
       "      <td>NaN</td>\n",
       "      <td>NaN</td>\n",
       "      <td>NaN</td>\n",
       "      <td>NaN</td>\n",
       "      <td>NaN</td>\n",
       "      <td>NaN</td>\n",
       "      <td>NaN</td>\n",
       "      <td>NaN</td>\n",
       "      <td>NaN</td>\n",
       "      <td>NaN</td>\n",
       "      <td>NaN</td>\n",
       "      <td>NaN</td>\n",
       "      <td>NaN</td>\n",
       "      <td>NaN</td>\n",
       "      <td>NaN</td>\n",
       "      <td>NaN</td>\n",
       "      <td>NaN</td>\n",
       "      <td>NaN</td>\n",
       "      <td>1895</td>\n",
       "      <td>NaN</td>\n",
       "      <td>NaN</td>\n",
       "      <td>NaN</td>\n",
       "      <td>NaN</td>\n",
       "      <td>NaN</td>\n",
       "      <td>NaN</td>\n",
       "      <td>NaN</td>\n",
       "      <td>NaN</td>\n",
       "      <td>NaN</td>\n",
       "      <td>NaN</td>\n",
       "      <td>NaN</td>\n",
       "      <td>1896</td>\n",
       "      <td>41.5800</td>\n",
       "      <td>-81.5700</td>\n",
       "      <td>Other</td>\n",
       "      <td>NaN</td>\n",
       "      <td>NaN</td>\n",
       "      <td>NaN</td>\n",
       "      <td>NaN</td>\n",
       "      <td>NaN</td>\n",
       "      <td>NaN</td>\n",
       "      <td>NaN</td>\n",
       "      <td>NaN</td>\n",
       "      <td>NaN</td>\n",
       "      <td>0</td>\n",
       "      <td>NaN</td>\n",
       "    </tr>\n",
       "    <tr>\n",
       "      <th>3</th>\n",
       "      <td>Loop the Loop (Coney Island)</td>\n",
       "      <td>NaN</td>\n",
       "      <td>NaN</td>\n",
       "      <td>Other</td>\n",
       "      <td>Removed</td>\n",
       "      <td>1901</td>\n",
       "      <td>Steel</td>\n",
       "      <td>Edwin Prescott</td>\n",
       "      <td>NaN</td>\n",
       "      <td>NaN</td>\n",
       "      <td>NaN</td>\n",
       "      <td>1.0</td>\n",
       "      <td>NaN</td>\n",
       "      <td>NaN</td>\n",
       "      <td>a single car. Riders are arranged 2 across in ...</td>\n",
       "      <td>NaN</td>\n",
       "      <td>NaN</td>\n",
       "      <td>NaN</td>\n",
       "      <td>NaN</td>\n",
       "      <td>Edward A. Green</td>\n",
       "      <td>NaN</td>\n",
       "      <td>NaN</td>\n",
       "      <td>NaN</td>\n",
       "      <td>NaN</td>\n",
       "      <td>Switchback Railway</td>\n",
       "      <td>NaN</td>\n",
       "      <td>NaN</td>\n",
       "      <td>NaN</td>\n",
       "      <td>1910</td>\n",
       "      <td>NaN</td>\n",
       "      <td>Giant Racer</td>\n",
       "      <td>NaN</td>\n",
       "      <td>NaN</td>\n",
       "      <td>NaN</td>\n",
       "      <td>NaN</td>\n",
       "      <td>NaN</td>\n",
       "      <td>NaN</td>\n",
       "      <td>NaN</td>\n",
       "      <td>NaN</td>\n",
       "      <td>NaN</td>\n",
       "      <td>NaN</td>\n",
       "      <td>1901</td>\n",
       "      <td>40.5745</td>\n",
       "      <td>-73.9780</td>\n",
       "      <td>Steel</td>\n",
       "      <td>1901-01-01</td>\n",
       "      <td>NaN</td>\n",
       "      <td>NaN</td>\n",
       "      <td>NaN</td>\n",
       "      <td>NaN</td>\n",
       "      <td>NaN</td>\n",
       "      <td>NaN</td>\n",
       "      <td>NaN</td>\n",
       "      <td>NaN</td>\n",
       "      <td>1</td>\n",
       "      <td>NaN</td>\n",
       "    </tr>\n",
       "    <tr>\n",
       "      <th>4</th>\n",
       "      <td>Loop the Loop (Young's Pier)</td>\n",
       "      <td>NaN</td>\n",
       "      <td>NaN</td>\n",
       "      <td>Other</td>\n",
       "      <td>Removed</td>\n",
       "      <td>1901</td>\n",
       "      <td>Steel</td>\n",
       "      <td>Edwin Prescott</td>\n",
       "      <td>NaN</td>\n",
       "      <td>NaN</td>\n",
       "      <td>NaN</td>\n",
       "      <td>1.0</td>\n",
       "      <td>NaN</td>\n",
       "      <td>NaN</td>\n",
       "      <td>NaN</td>\n",
       "      <td>NaN</td>\n",
       "      <td>NaN</td>\n",
       "      <td>NaN</td>\n",
       "      <td>NaN</td>\n",
       "      <td>Edward A. Green</td>\n",
       "      <td>NaN</td>\n",
       "      <td>NaN</td>\n",
       "      <td>NaN</td>\n",
       "      <td>NaN</td>\n",
       "      <td>NaN</td>\n",
       "      <td>NaN</td>\n",
       "      <td>NaN</td>\n",
       "      <td>NaN</td>\n",
       "      <td>1912</td>\n",
       "      <td>NaN</td>\n",
       "      <td>NaN</td>\n",
       "      <td>NaN</td>\n",
       "      <td>NaN</td>\n",
       "      <td>NaN</td>\n",
       "      <td>NaN</td>\n",
       "      <td>NaN</td>\n",
       "      <td>NaN</td>\n",
       "      <td>NaN</td>\n",
       "      <td>NaN</td>\n",
       "      <td>NaN</td>\n",
       "      <td>NaN</td>\n",
       "      <td>1901</td>\n",
       "      <td>39.3538</td>\n",
       "      <td>-74.4342</td>\n",
       "      <td>Steel</td>\n",
       "      <td>1901-01-01</td>\n",
       "      <td>NaN</td>\n",
       "      <td>NaN</td>\n",
       "      <td>NaN</td>\n",
       "      <td>NaN</td>\n",
       "      <td>NaN</td>\n",
       "      <td>NaN</td>\n",
       "      <td>NaN</td>\n",
       "      <td>NaN</td>\n",
       "      <td>1</td>\n",
       "      <td>NaN</td>\n",
       "    </tr>\n",
       "  </tbody>\n",
       "</table>\n",
       "</div>"
      ],
      "text/plain": [
       "                             coaster_name          Length             Speed  \\\n",
       "0                      Switchback Railway  600 ft (180 m)  6 mph (9.7 km/h)   \n",
       "1                       Flip Flap Railway             NaN               NaN   \n",
       "2  Switchback Railway (Euclid Beach Park)             NaN               NaN   \n",
       "3            Loop the Loop (Coney Island)             NaN               NaN   \n",
       "4            Loop the Loop (Young's Pier)             NaN               NaN   \n",
       "\n",
       "                         Location   Status   Opening date   Type  \\\n",
       "0                    Coney Island  Removed  June 16, 1884   Wood   \n",
       "1                   Sea Lion Park  Removed           1895   Wood   \n",
       "2  Cleveland, Ohio, United States   Closed            NaN  Other   \n",
       "3                           Other  Removed           1901  Steel   \n",
       "4                           Other  Removed           1901  Steel   \n",
       "\n",
       "             Manufacturer Height restriction        Model        Height  \\\n",
       "0  LaMarcus Adna Thompson                NaN  Lift Packed  50 ft (15 m)   \n",
       "1            Lina Beecher                NaN          NaN           NaN   \n",
       "2                     NaN                NaN          NaN           NaN   \n",
       "3          Edwin Prescott                NaN          NaN           NaN   \n",
       "4          Edwin Prescott                NaN          NaN           NaN   \n",
       "\n",
       "   Inversions Lift/launch system Cost  \\\n",
       "0         NaN            gravity  NaN   \n",
       "1         1.0                NaN  NaN   \n",
       "2         NaN                NaN  NaN   \n",
       "3         1.0                NaN  NaN   \n",
       "4         1.0                NaN  NaN   \n",
       "\n",
       "                                              Trains  \\\n",
       "0                                                NaN   \n",
       "1  a single car. Riders are arranged 1 across in ...   \n",
       "2                                                NaN   \n",
       "3  a single car. Riders are arranged 2 across in ...   \n",
       "4                                                NaN   \n",
       "\n",
       "                Park section Duration              Capacity G-force  \\\n",
       "0  Coney Island Cyclone Site     1:00  1600 riders per hour     2.9   \n",
       "1                        NaN      NaN                   NaN      12   \n",
       "2                        NaN      NaN                   NaN     NaN   \n",
       "3                        NaN      NaN                   NaN     NaN   \n",
       "4                        NaN      NaN                   NaN     NaN   \n",
       "\n",
       "                 Designer Max vertical angle          Drop Soft opening date  \\\n",
       "0  LaMarcus Adna Thompson                30°  43 ft (13 m)               NaN   \n",
       "1            Lina Beecher                NaN           NaN               NaN   \n",
       "2                     NaN                NaN           NaN               NaN   \n",
       "3         Edward A. Green                NaN           NaN               NaN   \n",
       "4         Edward A. Green                NaN           NaN               NaN   \n",
       "\n",
       "  Fast Lane available            Replaced            Track layout  \\\n",
       "0                 NaN                 NaN  Gravity pulled coaster   \n",
       "1                 NaN                 NaN                     NaN   \n",
       "2                 NaN                 NaN                     NaN   \n",
       "3                 NaN  Switchback Railway                     NaN   \n",
       "4                 NaN                 NaN                     NaN   \n",
       "\n",
       "  Fastrack available Soft opening date.1 Closing date Opened  Replaced by  \\\n",
       "0                NaN                 NaN          NaN    NaN          NaN   \n",
       "1                NaN                 NaN         1902    NaN          NaN   \n",
       "2                NaN                 NaN          NaN   1895          NaN   \n",
       "3                NaN                 NaN         1910    NaN  Giant Racer   \n",
       "4                NaN                 NaN         1912    NaN          NaN   \n",
       "\n",
       "  Website Flash Pass Available Must transfer from wheelchair Theme  \\\n",
       "0     NaN                  NaN                           NaN   NaN   \n",
       "1     NaN                  NaN                           NaN   NaN   \n",
       "2     NaN                  NaN                           NaN   NaN   \n",
       "3     NaN                  NaN                           NaN   NaN   \n",
       "4     NaN                  NaN                           NaN   NaN   \n",
       "\n",
       "  Single rider line available Restraint Style Flash Pass available  \\\n",
       "0                         NaN             NaN                  NaN   \n",
       "1                         NaN             NaN                  NaN   \n",
       "2                         NaN             NaN                  NaN   \n",
       "3                         NaN             NaN                  NaN   \n",
       "4                         NaN             NaN                  NaN   \n",
       "\n",
       "  Acceleration Restraints Name  year_introduced  latitude  longitude  \\\n",
       "0          NaN        NaN  NaN             1884   40.5740   -73.9780   \n",
       "1          NaN        NaN  NaN             1895   40.5780   -73.9790   \n",
       "2          NaN        NaN  NaN             1896   41.5800   -81.5700   \n",
       "3          NaN        NaN  NaN             1901   40.5745   -73.9780   \n",
       "4          NaN        NaN  NaN             1901   39.3538   -74.4342   \n",
       "\n",
       "  Type_Main opening_date_clean  speed1    speed2  speed1_value speed1_unit  \\\n",
       "0      Wood         1884-06-16  6 mph   9.7 km/h           6.0         mph   \n",
       "1      Wood         1895-01-01     NaN       NaN           NaN         NaN   \n",
       "2     Other                NaN     NaN       NaN           NaN         NaN   \n",
       "3     Steel         1901-01-01     NaN       NaN           NaN         NaN   \n",
       "4     Steel         1901-01-01     NaN       NaN           NaN         NaN   \n",
       "\n",
       "   speed_mph  height_value height_unit  height_ft  Inversions_clean  \\\n",
       "0        6.0          50.0          ft        NaN                 0   \n",
       "1        NaN           NaN         NaN        NaN                 1   \n",
       "2        NaN           NaN         NaN        NaN                 0   \n",
       "3        NaN           NaN         NaN        NaN                 1   \n",
       "4        NaN           NaN         NaN        NaN                 1   \n",
       "\n",
       "   Gforce_clean  \n",
       "0           2.9  \n",
       "1          12.0  \n",
       "2           NaN  \n",
       "3           NaN  \n",
       "4           NaN  "
      ]
     },
     "execution_count": 4,
     "metadata": {},
     "output_type": "execute_result"
    }
   ],
   "source": [
    "# showing the first 5 rows of the dataset\n",
    "\n",
    "df.head(5)"
   ]
  },
  {
   "cell_type": "code",
   "execution_count": 5,
   "id": "b723cba6",
   "metadata": {
    "execution": {
     "iopub.execute_input": "2023-03-24T05:24:47.863892Z",
     "iopub.status.busy": "2023-03-24T05:24:47.862625Z",
     "iopub.status.idle": "2023-03-24T05:24:47.871060Z",
     "shell.execute_reply": "2023-03-24T05:24:47.869783Z"
    },
    "papermill": {
     "duration": 0.019653,
     "end_time": "2023-03-24T05:24:47.874184",
     "exception": false,
     "start_time": "2023-03-24T05:24:47.854531",
     "status": "completed"
    },
    "tags": []
   },
   "outputs": [
    {
     "data": {
      "text/plain": [
       "Index(['coaster_name', 'Length', 'Speed', 'Location', 'Status', 'Opening date',\n",
       "       'Type', 'Manufacturer', 'Height restriction', 'Model', 'Height',\n",
       "       'Inversions', 'Lift/launch system', 'Cost', 'Trains', 'Park section',\n",
       "       'Duration', 'Capacity', 'G-force', 'Designer', 'Max vertical angle',\n",
       "       'Drop', 'Soft opening date', 'Fast Lane available', 'Replaced',\n",
       "       'Track layout', 'Fastrack available', 'Soft opening date.1',\n",
       "       'Closing date', 'Opened', 'Replaced by', 'Website',\n",
       "       'Flash Pass Available', 'Must transfer from wheelchair', 'Theme',\n",
       "       'Single rider line available', 'Restraint Style',\n",
       "       'Flash Pass available', 'Acceleration', 'Restraints', 'Name',\n",
       "       'year_introduced', 'latitude', 'longitude', 'Type_Main',\n",
       "       'opening_date_clean', 'speed1', 'speed2', 'speed1_value', 'speed1_unit',\n",
       "       'speed_mph', 'height_value', 'height_unit', 'height_ft',\n",
       "       'Inversions_clean', 'Gforce_clean'],\n",
       "      dtype='object')"
      ]
     },
     "execution_count": 5,
     "metadata": {},
     "output_type": "execute_result"
    }
   ],
   "source": [
    "# showing all the rows of the columns in the dataset\n",
    "\n",
    "df.columns"
   ]
  },
  {
   "cell_type": "code",
   "execution_count": 6,
   "id": "bd7cc511",
   "metadata": {
    "execution": {
     "iopub.execute_input": "2023-03-24T05:24:47.890910Z",
     "iopub.status.busy": "2023-03-24T05:24:47.890151Z",
     "iopub.status.idle": "2023-03-24T05:24:47.901474Z",
     "shell.execute_reply": "2023-03-24T05:24:47.900107Z"
    },
    "papermill": {
     "duration": 0.023093,
     "end_time": "2023-03-24T05:24:47.904059",
     "exception": false,
     "start_time": "2023-03-24T05:24:47.880966",
     "status": "completed"
    },
    "tags": []
   },
   "outputs": [],
   "source": [
    "# including only columns that I wanted to see\n",
    "\n",
    "df = df[['coaster_name', 'Location', 'Status', \n",
    "    'Manufacturer', 'year_introduced', 'latitude', 'longitude',\n",
    "    'opening_date_clean', 'speed_mph', 'height_ft',\n",
    "    'Inversions_clean', 'Gforce_clean']].copy()"
   ]
  },
  {
   "cell_type": "code",
   "execution_count": 7,
   "id": "f6ec9fde",
   "metadata": {
    "execution": {
     "iopub.execute_input": "2023-03-24T05:24:47.919352Z",
     "iopub.status.busy": "2023-03-24T05:24:47.918800Z",
     "iopub.status.idle": "2023-03-24T05:24:47.929293Z",
     "shell.execute_reply": "2023-03-24T05:24:47.927959Z"
    },
    "papermill": {
     "duration": 0.021438,
     "end_time": "2023-03-24T05:24:47.932102",
     "exception": false,
     "start_time": "2023-03-24T05:24:47.910664",
     "status": "completed"
    },
    "tags": []
   },
   "outputs": [
    {
     "data": {
      "text/plain": [
       "coaster_name           object\n",
       "Location               object\n",
       "Status                 object\n",
       "Manufacturer           object\n",
       "year_introduced         int64\n",
       "latitude              float64\n",
       "longitude             float64\n",
       "opening_date_clean     object\n",
       "speed_mph             float64\n",
       "height_ft             float64\n",
       "Inversions_clean        int64\n",
       "Gforce_clean          float64\n",
       "dtype: object"
      ]
     },
     "execution_count": 7,
     "metadata": {},
     "output_type": "execute_result"
    }
   ],
   "source": [
    "# showing the data types of the dataset\n",
    "df.dtypes"
   ]
  },
  {
   "cell_type": "code",
   "execution_count": 8,
   "id": "a1961d6c",
   "metadata": {
    "execution": {
     "iopub.execute_input": "2023-03-24T05:24:47.948340Z",
     "iopub.status.busy": "2023-03-24T05:24:47.947881Z",
     "iopub.status.idle": "2023-03-24T05:24:47.965437Z",
     "shell.execute_reply": "2023-03-24T05:24:47.964227Z"
    },
    "papermill": {
     "duration": 0.028561,
     "end_time": "2023-03-24T05:24:47.968062",
     "exception": false,
     "start_time": "2023-03-24T05:24:47.939501",
     "status": "completed"
    },
    "tags": []
   },
   "outputs": [],
   "source": [
    "# changing the opening_date_clean column from object data type to datetime\n",
    "\n",
    "df['opening_date_clean'] = pd.to_datetime(df['opening_date_clean'])"
   ]
  },
  {
   "cell_type": "code",
   "execution_count": 9,
   "id": "a0c2340e",
   "metadata": {
    "execution": {
     "iopub.execute_input": "2023-03-24T05:24:47.984008Z",
     "iopub.status.busy": "2023-03-24T05:24:47.983130Z",
     "iopub.status.idle": "2023-03-24T05:24:47.992711Z",
     "shell.execute_reply": "2023-03-24T05:24:47.991338Z"
    },
    "papermill": {
     "duration": 0.02047,
     "end_time": "2023-03-24T05:24:47.995350",
     "exception": false,
     "start_time": "2023-03-24T05:24:47.974880",
     "status": "completed"
    },
    "tags": []
   },
   "outputs": [
    {
     "data": {
      "text/plain": [
       "Index(['coaster_name', 'Location', 'Status', 'Manufacturer', 'year_introduced',\n",
       "       'latitude', 'longitude', 'opening_date_clean', 'speed_mph', 'height_ft',\n",
       "       'Inversions_clean', 'Gforce_clean'],\n",
       "      dtype='object')"
      ]
     },
     "execution_count": 9,
     "metadata": {},
     "output_type": "execute_result"
    }
   ],
   "source": [
    "df.columns"
   ]
  },
  {
   "cell_type": "code",
   "execution_count": 10,
   "id": "45fa61d0",
   "metadata": {
    "execution": {
     "iopub.execute_input": "2023-03-24T05:24:48.010998Z",
     "iopub.status.busy": "2023-03-24T05:24:48.010345Z",
     "iopub.status.idle": "2023-03-24T05:24:48.018615Z",
     "shell.execute_reply": "2023-03-24T05:24:48.017218Z"
    },
    "papermill": {
     "duration": 0.019345,
     "end_time": "2023-03-24T05:24:48.021447",
     "exception": false,
     "start_time": "2023-03-24T05:24:48.002102",
     "status": "completed"
    },
    "tags": []
   },
   "outputs": [],
   "source": [
    "# renaming the columns\n",
    "\n",
    "df = df.rename(columns={'coaster_name':'Coaster_Name',\n",
    "                       'year_introduced':'Year_Introduced',\n",
    "                       'opening_date_clean': 'Opening_Date',\n",
    "                       'speed_mph': 'Speed_mph',\n",
    "                       'height_ft':'Height_ft',\n",
    "                       'Inversions_clean':'Inversions',\n",
    "                       'Gforce_clean':'Gforce'})"
   ]
  },
  {
   "cell_type": "code",
   "execution_count": 11,
   "id": "34888271",
   "metadata": {
    "execution": {
     "iopub.execute_input": "2023-03-24T05:24:48.037803Z",
     "iopub.status.busy": "2023-03-24T05:24:48.037379Z",
     "iopub.status.idle": "2023-03-24T05:24:48.047754Z",
     "shell.execute_reply": "2023-03-24T05:24:48.046676Z"
    },
    "papermill": {
     "duration": 0.02188,
     "end_time": "2023-03-24T05:24:48.050297",
     "exception": false,
     "start_time": "2023-03-24T05:24:48.028417",
     "status": "completed"
    },
    "tags": []
   },
   "outputs": [
    {
     "data": {
      "text/plain": [
       "Coaster_Name         0\n",
       "Location             0\n",
       "Status             213\n",
       "Manufacturer        59\n",
       "Year_Introduced      0\n",
       "latitude           275\n",
       "longitude          275\n",
       "Opening_Date       250\n",
       "Speed_mph          150\n",
       "Height_ft          916\n",
       "Inversions           0\n",
       "Gforce             725\n",
       "dtype: int64"
      ]
     },
     "execution_count": 11,
     "metadata": {},
     "output_type": "execute_result"
    }
   ],
   "source": [
    "# showing the sum of null values in all columns of dataset\n",
    "\n",
    "df.isnull().sum()"
   ]
  },
  {
   "cell_type": "code",
   "execution_count": 12,
   "id": "890bcd03",
   "metadata": {
    "execution": {
     "iopub.execute_input": "2023-03-24T05:24:48.067238Z",
     "iopub.status.busy": "2023-03-24T05:24:48.066792Z",
     "iopub.status.idle": "2023-03-24T05:24:48.083118Z",
     "shell.execute_reply": "2023-03-24T05:24:48.082014Z"
    },
    "papermill": {
     "duration": 0.028491,
     "end_time": "2023-03-24T05:24:48.085714",
     "exception": false,
     "start_time": "2023-03-24T05:24:48.057223",
     "status": "completed"
    },
    "tags": []
   },
   "outputs": [
    {
     "data": {
      "text/plain": [
       "0"
      ]
     },
     "execution_count": 12,
     "metadata": {},
     "output_type": "execute_result"
    }
   ],
   "source": [
    "# showing the duplicated values in the dataset\n",
    "df.duplicated().sum()"
   ]
  },
  {
   "cell_type": "code",
   "execution_count": 13,
   "id": "36ae855f",
   "metadata": {
    "execution": {
     "iopub.execute_input": "2023-03-24T05:24:48.102176Z",
     "iopub.status.busy": "2023-03-24T05:24:48.101169Z",
     "iopub.status.idle": "2023-03-24T05:24:48.113350Z",
     "shell.execute_reply": "2023-03-24T05:24:48.112081Z"
    },
    "papermill": {
     "duration": 0.023108,
     "end_time": "2023-03-24T05:24:48.115933",
     "exception": false,
     "start_time": "2023-03-24T05:24:48.092825",
     "status": "completed"
    },
    "tags": []
   },
   "outputs": [
    {
     "data": {
      "text/plain": [
       "1999    49\n",
       "2000    47\n",
       "1998    32\n",
       "2011    31\n",
       "2001    30\n",
       "        ..\n",
       "1956     1\n",
       "1959     1\n",
       "1961     1\n",
       "1895     1\n",
       "1884     1\n",
       "Name: Year_Introduced, Length: 101, dtype: int64"
      ]
     },
     "execution_count": 13,
     "metadata": {},
     "output_type": "execute_result"
    }
   ],
   "source": [
    "df['Year_Introduced'].value_counts()"
   ]
  },
  {
   "cell_type": "code",
   "execution_count": 14,
   "id": "d4978481",
   "metadata": {
    "execution": {
     "iopub.execute_input": "2023-03-24T05:24:48.132137Z",
     "iopub.status.busy": "2023-03-24T05:24:48.131714Z",
     "iopub.status.idle": "2023-03-24T05:24:48.474537Z",
     "shell.execute_reply": "2023-03-24T05:24:48.473502Z"
    },
    "papermill": {
     "duration": 0.354136,
     "end_time": "2023-03-24T05:24:48.477140",
     "exception": false,
     "start_time": "2023-03-24T05:24:48.123004",
     "status": "completed"
    },
    "tags": []
   },
   "outputs": [
    {
     "data": {
      "image/png": "[encoded data removed]",
      "text/plain": [
       "<Figure size 640x480 with 1 Axes>"
      ]
     },
     "metadata": {},
     "output_type": "display_data"
    }
   ],
   "source": [
    "# showing a bar plot considering the top 10 years roller coasters were introduced\n",
    "\n",
    "ax = df['Year_Introduced'].value_counts() \\\n",
    "    .head(10) \\\n",
    "    .plot(kind='bar', title='Top 10 Years Coasters Introduced',\n",
    "         color=\"green\")\n",
    "ax.set_xlabel('Year Introduced')\n",
    "ax.set_ylabel('Count')\n",
    "plt.show()\n"
   ]
  },
  {
   "cell_type": "code",
   "execution_count": 15,
   "id": "627183a0",
   "metadata": {
    "execution": {
     "iopub.execute_input": "2023-03-24T05:24:48.494605Z",
     "iopub.status.busy": "2023-03-24T05:24:48.493924Z",
     "iopub.status.idle": "2023-03-24T05:24:48.751731Z",
     "shell.execute_reply": "2023-03-24T05:24:48.750715Z"
    },
    "papermill": {
     "duration": 0.269513,
     "end_time": "2023-03-24T05:24:48.754293",
     "exception": false,
     "start_time": "2023-03-24T05:24:48.484780",
     "status": "completed"
    },
    "tags": []
   },
   "outputs": [
    {
     "data": {
      "image/png": "[encoded data removed]",
      "text/plain": [
       "<Figure size 640x480 with 1 Axes>"
      ]
     },
     "metadata": {},
     "output_type": "display_data"
    }
   ],
   "source": [
    "# displaying the distribution of common speed of roller coasters\n",
    "\n",
    "ax = df['Speed_mph'].plot(kind='hist',\n",
    "                         bins=20,\n",
    "                         title='Roller Coaster Speed (mph)',\n",
    "                         color=\"grey\")\n",
    "ax.set_xlabel('Speed (mph)')\n",
    "plt.show()"
   ]
  },
  {
   "cell_type": "code",
   "execution_count": 16,
   "id": "c1a27bc6",
   "metadata": {
    "execution": {
     "iopub.execute_input": "2023-03-24T05:24:48.772517Z",
     "iopub.status.busy": "2023-03-24T05:24:48.771814Z",
     "iopub.status.idle": "2023-03-24T05:24:49.028192Z",
     "shell.execute_reply": "2023-03-24T05:24:49.027169Z"
    },
    "papermill": {
     "duration": 0.268362,
     "end_time": "2023-03-24T05:24:49.030730",
     "exception": false,
     "start_time": "2023-03-24T05:24:48.762368",
     "status": "completed"
    },
    "tags": []
   },
   "outputs": [
    {
     "data": {
      "image/png": "[encoded data removed]",
      "text/plain": [
       "<Figure size 640x480 with 1 Axes>"
      ]
     },
     "metadata": {},
     "output_type": "display_data"
    }
   ],
   "source": [
    "# showing a density plot of the common speeds of the roller coasters\n",
    "\n",
    "\n",
    "ax = df['Speed_mph'].plot(kind='kde',\n",
    "                         title='Roller Coaster Speed (mph)',\n",
    "                         color=\"brown\")\n",
    "ax.set_xlabel('Speed (mph)')\n",
    "plt.show()"
   ]
  },
  {
   "cell_type": "code",
   "execution_count": 17,
   "id": "5b9c8cb3",
   "metadata": {
    "execution": {
     "iopub.execute_input": "2023-03-24T05:24:49.050326Z",
     "iopub.status.busy": "2023-03-24T05:24:49.049633Z",
     "iopub.status.idle": "2023-03-24T05:24:49.299192Z",
     "shell.execute_reply": "2023-03-24T05:24:49.297766Z"
    },
    "papermill": {
     "duration": 0.26277,
     "end_time": "2023-03-24T05:24:49.302228",
     "exception": false,
     "start_time": "2023-03-24T05:24:49.039458",
     "status": "completed"
    },
    "tags": []
   },
   "outputs": [
    {
     "data": {
      "image/png": "[encoded data removed]",
      "text/plain": [
       "<Figure size 640x480 with 1 Axes>"
      ]
     },
     "metadata": {},
     "output_type": "display_data"
    }
   ],
   "source": [
    "df.plot(kind='scatter',\n",
    "       x='Speed_mph',\n",
    "       y='Height_ft',\n",
    "       title='Roller Coaster Speed vs. Height',\n",
    "       )\n",
    "plt.show()"
   ]
  },
  {
   "cell_type": "code",
   "execution_count": 18,
   "id": "8dff57fd",
   "metadata": {
    "execution": {
     "iopub.execute_input": "2023-03-24T05:24:49.324039Z",
     "iopub.status.busy": "2023-03-24T05:24:49.322651Z",
     "iopub.status.idle": "2023-03-24T05:24:49.343532Z",
     "shell.execute_reply": "2023-03-24T05:24:49.342115Z"
    },
    "papermill": {
     "duration": 0.034392,
     "end_time": "2023-03-24T05:24:49.346306",
     "exception": false,
     "start_time": "2023-03-24T05:24:49.311914",
     "status": "completed"
    },
    "tags": []
   },
   "outputs": [
    {
     "data": {
      "text/html": [
       "<div>\n",
       "<style scoped>\n",
       "    .dataframe tbody tr th:only-of-type {\n",
       "        vertical-align: middle;\n",
       "    }\n",
       "\n",
       "    .dataframe tbody tr th {\n",
       "        vertical-align: top;\n",
       "    }\n",
       "\n",
       "    .dataframe thead th {\n",
       "        text-align: right;\n",
       "    }\n",
       "</style>\n",
       "<table border=\"1\" class=\"dataframe\">\n",
       "  <thead>\n",
       "    <tr style=\"text-align: right;\">\n",
       "      <th></th>\n",
       "      <th>Year_Introduced</th>\n",
       "      <th>Speed_mph</th>\n",
       "      <th>Height_ft</th>\n",
       "      <th>Inversions</th>\n",
       "      <th>Gforce</th>\n",
       "    </tr>\n",
       "  </thead>\n",
       "  <tbody>\n",
       "    <tr>\n",
       "      <th>Year_Introduced</th>\n",
       "      <td>1.000000</td>\n",
       "      <td>0.178619</td>\n",
       "      <td>0.145457</td>\n",
       "      <td>-0.172829</td>\n",
       "      <td>0.168763</td>\n",
       "    </tr>\n",
       "    <tr>\n",
       "      <th>Speed_mph</th>\n",
       "      <td>0.178619</td>\n",
       "      <td>1.000000</td>\n",
       "      <td>0.734499</td>\n",
       "      <td>-0.026413</td>\n",
       "      <td>0.605090</td>\n",
       "    </tr>\n",
       "    <tr>\n",
       "      <th>Height_ft</th>\n",
       "      <td>0.145457</td>\n",
       "      <td>0.734499</td>\n",
       "      <td>1.000000</td>\n",
       "      <td>-0.076255</td>\n",
       "      <td>0.460841</td>\n",
       "    </tr>\n",
       "    <tr>\n",
       "      <th>Inversions</th>\n",
       "      <td>-0.172829</td>\n",
       "      <td>-0.026413</td>\n",
       "      <td>-0.076255</td>\n",
       "      <td>1.000000</td>\n",
       "      <td>0.270942</td>\n",
       "    </tr>\n",
       "    <tr>\n",
       "      <th>Gforce</th>\n",
       "      <td>0.168763</td>\n",
       "      <td>0.605090</td>\n",
       "      <td>0.460841</td>\n",
       "      <td>0.270942</td>\n",
       "      <td>1.000000</td>\n",
       "    </tr>\n",
       "  </tbody>\n",
       "</table>\n",
       "</div>"
      ],
      "text/plain": [
       "                 Year_Introduced  Speed_mph  Height_ft  Inversions    Gforce\n",
       "Year_Introduced         1.000000   0.178619   0.145457   -0.172829  0.168763\n",
       "Speed_mph               0.178619   1.000000   0.734499   -0.026413  0.605090\n",
       "Height_ft               0.145457   0.734499   1.000000   -0.076255  0.460841\n",
       "Inversions             -0.172829  -0.026413  -0.076255    1.000000  0.270942\n",
       "Gforce                  0.168763   0.605090   0.460841    0.270942  1.000000"
      ]
     },
     "execution_count": 18,
     "metadata": {},
     "output_type": "execute_result"
    }
   ],
   "source": [
    "# showing the correlation of a subset of the dataset\n",
    "\n",
    "df_corr = df[['Year_Introduced', 'Speed_mph',\n",
    "             'Height_ft', 'Inversions', 'Gforce']].dropna().corr()\n",
    "df_corr"
   ]
  },
  {
   "cell_type": "code",
   "execution_count": 19,
   "id": "bb0f5654",
   "metadata": {
    "execution": {
     "iopub.execute_input": "2023-03-24T05:24:49.366780Z",
     "iopub.status.busy": "2023-03-24T05:24:49.366357Z",
     "iopub.status.idle": "2023-03-24T05:24:49.670274Z",
     "shell.execute_reply": "2023-03-24T05:24:49.668867Z"
    },
    "papermill": {
     "duration": 0.317723,
     "end_time": "2023-03-24T05:24:49.673165",
     "exception": false,
     "start_time": "2023-03-24T05:24:49.355442",
     "status": "completed"
    },
    "tags": []
   },
   "outputs": [
    {
     "data": {
      "image/png": "[encoded data removed]",
      "text/plain": [
       "<Figure size 640x480 with 2 Axes>"
      ]
     },
     "metadata": {},
     "output_type": "display_data"
    }
   ],
   "source": [
    "# showing a correlation heatmap\n",
    "\n",
    "sns.heatmap(df_corr)\n",
    "plt.show()"
   ]
  },
  {
   "cell_type": "code",
   "execution_count": 20,
   "id": "4d4cf479",
   "metadata": {
    "execution": {
     "iopub.execute_input": "2023-03-24T05:24:49.695554Z",
     "iopub.status.busy": "2023-03-24T05:24:49.694510Z",
     "iopub.status.idle": "2023-03-24T05:24:49.996341Z",
     "shell.execute_reply": "2023-03-24T05:24:49.994477Z"
    },
    "papermill": {
     "duration": 0.31591,
     "end_time": "2023-03-24T05:24:49.999044",
     "exception": false,
     "start_time": "2023-03-24T05:24:49.683134",
     "status": "completed"
    },
    "tags": []
   },
   "outputs": [
    {
     "data": {
      "image/png": "[encoded data removed]",
      "text/plain": [
       "<Figure size 1200x500 with 1 Axes>"
      ]
     },
     "metadata": {},
     "output_type": "display_data"
    }
   ],
   "source": [
    "# What are the locations with the fastest roller coasters (minimum of of 10)?\n",
    "\n",
    "ax = df.query('Location != \"Other\"') \\\n",
    "     .groupby('Location')['Speed_mph'] \\\n",
    "     .agg(['mean', 'count']) \\\n",
    "     .query('count > 10')\\\n",
    "     .sort_values('mean')['mean'] \\\n",
    "     .plot(kind='barh', figsize=(12, 5), title='Average Roller Coast Speed by Location',\n",
    "          color=\"blue\")\n",
    "ax.set_xlabel('Average Roller Coaster Speed')\n",
    "plt.show()"
   ]
  },
  {
   "cell_type": "code",
   "execution_count": null,
   "id": "9e1b83a8",
   "metadata": {
    "papermill": {
     "duration": 0.011411,
     "end_time": "2023-03-24T05:24:50.021509",
     "exception": false,
     "start_time": "2023-03-24T05:24:50.010098",
     "status": "completed"
    },
    "tags": []
   },
   "outputs": [],
   "source": []
  }
 ],
 "metadata": {
  "kernelspec": {
   "display_name": "Python 3",
   "language": "python",
   "name": "python3"
  },
  "language_info": {
   "codemirror_mode": {
    "name": "ipython",
    "version": 3
   },
   "file_extension": ".py",
   "mimetype": "text/x-python",
   "name": "python",
   "nbconvert_exporter": "python",
   "pygments_lexer": "ipython3",
   "version": "3.7.12"
  },
  "papermill": {
   "default_parameters": {},
   "duration": 15.636799,
   "end_time": "2023-03-24T05:24:50.857082",
   "environment_variables": {},
   "exception": null,
   "input_path": "__notebook__.ipynb",
   "output_path": "__notebook__.ipynb",
   "parameters": {},
   "start_time": "2023-03-24T05:24:35.220283",
   "version": "2.4.0"
  }
 },
 "nbformat": 4,
 "nbformat_minor": 5
}
